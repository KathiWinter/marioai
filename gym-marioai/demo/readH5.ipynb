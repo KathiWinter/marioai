{
 "cells": [
  {
   "cell_type": "code",
   "execution_count": 85,
   "metadata": {},
   "outputs": [],
   "source": [
    "import h5py as h5"
   ]
  },
  {
   "cell_type": "code",
   "execution_count": 86,
   "metadata": {},
   "outputs": [
    {
     "name": "stdout",
     "output_type": "stream",
     "text": [
      "<KeysViewHDF5 ['actions', 'discrete_action', 'episode_terminals', 'observations', 'rewards', 'terminals', 'version']>\n"
     ]
    }
   ],
   "source": [
    "hf1 = h5.File('dataset1.h5')\n",
    "print(hf1.keys())"
   ]
  },
  {
   "cell_type": "code",
   "execution_count": 87,
   "metadata": {},
   "outputs": [
    {
     "name": "stdout",
     "output_type": "stream",
     "text": [
      "/actions\n",
      "(1365,)\n",
      "/discrete_action\n",
      "()\n",
      "/episode_terminals\n",
      "(1365,)\n",
      "/observations\n",
      "(1365, 800)\n",
      "/rewards\n",
      "(1365,)\n",
      "/terminals\n",
      "(1365,)\n",
      "/version\n",
      "()\n"
     ]
    }
   ],
   "source": [
    "for key in hf1.keys():\n",
    "    print(hf1[key].name)\n",
    "    print(hf1[key].shape)"
   ]
  },
  {
   "cell_type": "code",
   "execution_count": 88,
   "metadata": {},
   "outputs": [
    {
     "name": "stdout",
     "output_type": "stream",
     "text": [
      "<KeysViewHDF5 ['actions', 'discrete_action', 'episode_terminals', 'observations', 'rewards', 'terminals', 'version']>\n"
     ]
    }
   ],
   "source": [
    "hf2 = h5.File('dataset2.h5')\n",
    "print(hf2.keys())"
   ]
  },
  {
   "cell_type": "code",
   "execution_count": 89,
   "metadata": {},
   "outputs": [
    {
     "name": "stdout",
     "output_type": "stream",
     "text": [
      "/actions\n",
      "(1365,)\n",
      "/discrete_action\n",
      "()\n",
      "/episode_terminals\n",
      "(1365,)\n",
      "/observations\n",
      "(1365, 800)\n",
      "/rewards\n",
      "(1365,)\n",
      "/terminals\n",
      "(1365,)\n",
      "/version\n",
      "()\n"
     ]
    }
   ],
   "source": [
    "for key in hf2.keys():\n",
    "    print(hf2[key].name)\n",
    "    print(hf2[key].shape)"
   ]
  },
  {
   "cell_type": "code",
   "execution_count": 90,
   "metadata": {},
   "outputs": [
    {
     "data": {
      "text/plain": [
       "['actions',\n",
       " 'discrete_action',\n",
       " 'episode_terminals',\n",
       " 'observations',\n",
       " 'rewards',\n",
       " 'terminals',\n",
       " 'version']"
      ]
     },
     "execution_count": 90,
     "metadata": {},
     "output_type": "execute_result"
    }
   ],
   "source": [
    "test = list(hf2.keys())\n",
    "test"
   ]
  },
  {
   "cell_type": "code",
   "execution_count": 91,
   "metadata": {},
   "outputs": [
    {
     "data": {
      "text/plain": [
       "1365"
      ]
     },
     "execution_count": 91,
     "metadata": {},
     "output_type": "execute_result"
    }
   ],
   "source": [
    "hf2[test[3]].shape[0]"
   ]
  },
  {
   "cell_type": "code",
   "execution_count": 92,
   "metadata": {},
   "outputs": [
    {
     "ename": "IndexError",
     "evalue": "index 0 is out of bounds for axis 0 with size 0",
     "output_type": "error",
     "traceback": [
      "\u001b[0;31m---------------------------------------------------------------------------\u001b[0m",
      "\u001b[0;31mIndexError\u001b[0m                                Traceback (most recent call last)",
      "\u001b[0;32m/var/folders/cj/2d2zng010fl5y4f3klxz7l8r0000gn/T/ipykernel_26508/3325328365.py\u001b[0m in \u001b[0;36m<module>\u001b[0;34m\u001b[0m\n\u001b[1;32m     27\u001b[0m             \u001b[0mrewards\u001b[0m\u001b[0;34m.\u001b[0m\u001b[0mappend\u001b[0m\u001b[0;34m(\u001b[0m\u001b[0me\u001b[0m\u001b[0;34m)\u001b[0m\u001b[0;34m\u001b[0m\u001b[0;34m\u001b[0m\u001b[0m\n\u001b[1;32m     28\u001b[0m     \u001b[0mdataset\u001b[0m \u001b[0;34m=\u001b[0m \u001b[0mMDPDataset\u001b[0m\u001b[0;34m(\u001b[0m\u001b[0mnp\u001b[0m\u001b[0;34m.\u001b[0m\u001b[0marray\u001b[0m\u001b[0;34m(\u001b[0m\u001b[0mobservations\u001b[0m\u001b[0;34m)\u001b[0m\u001b[0;34m,\u001b[0m \u001b[0mnp\u001b[0m\u001b[0;34m.\u001b[0m\u001b[0marray\u001b[0m\u001b[0;34m(\u001b[0m\u001b[0mactions\u001b[0m\u001b[0;34m)\u001b[0m\u001b[0;34m,\u001b[0m \u001b[0mnp\u001b[0m\u001b[0;34m.\u001b[0m\u001b[0marray\u001b[0m\u001b[0;34m(\u001b[0m\u001b[0mrewards\u001b[0m\u001b[0;34m)\u001b[0m\u001b[0;34m,\u001b[0m \u001b[0mnp\u001b[0m\u001b[0;34m.\u001b[0m\u001b[0marray\u001b[0m\u001b[0;34m(\u001b[0m\u001b[0mterminals\u001b[0m\u001b[0;34m)\u001b[0m\u001b[0;34m)\u001b[0m\u001b[0;34m\u001b[0m\u001b[0;34m\u001b[0m\u001b[0m\n\u001b[0;32m---> 29\u001b[0;31m     \u001b[0mh5fw\u001b[0m\u001b[0;34m.\u001b[0m\u001b[0mcreate_dataset\u001b[0m\u001b[0;34m(\u001b[0m\u001b[0mdataset\u001b[0m\u001b[0;34m)\u001b[0m\u001b[0;34m\u001b[0m\u001b[0;34m\u001b[0m\u001b[0m\n\u001b[0m\u001b[1;32m     30\u001b[0m \u001b[0;34m\u001b[0m\u001b[0m\n",
      "\u001b[0;32m~/opt/anaconda3/envs/pytorch2/lib/python3.7/site-packages/h5py/_hl/group.py\u001b[0m in \u001b[0;36mcreate_dataset\u001b[0;34m(self, name, shape, dtype, data, **kwds)\u001b[0m\n\u001b[1;32m    153\u001b[0m         \u001b[0;32mwith\u001b[0m \u001b[0mphil\u001b[0m\u001b[0;34m:\u001b[0m\u001b[0;34m\u001b[0m\u001b[0;34m\u001b[0m\u001b[0m\n\u001b[1;32m    154\u001b[0m             \u001b[0mgroup\u001b[0m \u001b[0;34m=\u001b[0m \u001b[0mself\u001b[0m\u001b[0;34m\u001b[0m\u001b[0;34m\u001b[0m\u001b[0m\n\u001b[0;32m--> 155\u001b[0;31m             \u001b[0;32mif\u001b[0m \u001b[0mname\u001b[0m\u001b[0;34m:\u001b[0m\u001b[0;34m\u001b[0m\u001b[0;34m\u001b[0m\u001b[0m\n\u001b[0m\u001b[1;32m    156\u001b[0m                 \u001b[0mname\u001b[0m \u001b[0;34m=\u001b[0m \u001b[0mself\u001b[0m\u001b[0;34m.\u001b[0m\u001b[0m_e\u001b[0m\u001b[0;34m(\u001b[0m\u001b[0mname\u001b[0m\u001b[0;34m)\u001b[0m\u001b[0;34m\u001b[0m\u001b[0;34m\u001b[0m\u001b[0m\n\u001b[1;32m    157\u001b[0m                 \u001b[0;32mif\u001b[0m \u001b[0;34mb'/'\u001b[0m \u001b[0;32min\u001b[0m \u001b[0mname\u001b[0m\u001b[0;34m.\u001b[0m\u001b[0mlstrip\u001b[0m\u001b[0;34m(\u001b[0m\u001b[0;34mb'/'\u001b[0m\u001b[0;34m)\u001b[0m\u001b[0;34m:\u001b[0m\u001b[0;34m\u001b[0m\u001b[0;34m\u001b[0m\u001b[0m\n",
      "\u001b[0;32m~/opt/anaconda3/envs/pytorch2/lib/python3.7/site-packages/d3rlpy/dataset.pyx\u001b[0m in \u001b[0;36md3rlpy.dataset.MDPDataset.__len__\u001b[0;34m()\u001b[0m\n",
      "\u001b[0;32m~/opt/anaconda3/envs/pytorch2/lib/python3.7/site-packages/d3rlpy/dataset.pyx\u001b[0m in \u001b[0;36md3rlpy.dataset.MDPDataset.size\u001b[0;34m()\u001b[0m\n",
      "\u001b[0;32m~/opt/anaconda3/envs/pytorch2/lib/python3.7/site-packages/d3rlpy/dataset.pyx\u001b[0m in \u001b[0;36md3rlpy.dataset.MDPDataset.episodes\u001b[0;34m()\u001b[0m\n",
      "\u001b[0;32m~/opt/anaconda3/envs/pytorch2/lib/python3.7/site-packages/d3rlpy/dataset.pyx\u001b[0m in \u001b[0;36md3rlpy.dataset.MDPDataset.build_episodes\u001b[0;34m()\u001b[0m\n",
      "\u001b[0;32m~/opt/anaconda3/envs/pytorch2/lib/python3.7/site-packages/d3rlpy/dataset.pyx\u001b[0m in \u001b[0;36md3rlpy.dataset.MDPDataset.get_observation_shape\u001b[0;34m()\u001b[0m\n",
      "\u001b[0;31mIndexError\u001b[0m: index 0 is out of bounds for axis 0 with size 0"
     ]
    }
   ],
   "source": [
    "\n",
    "import numpy as np\n",
    "import glob\n",
    "from d3rlpy.dataset import MDPDataset\n",
    "with h5.File('datasets_merge.h5',mode='w') as h5fw:\n",
    "    actions=[]\n",
    "    terminals=[]\n",
    "    observations=[]\n",
    "    rewards=[]\n",
    "    for h5name in glob.glob('file*.h5'):\n",
    "        h5fr = h5.File(h5name,'r') \n",
    "        dset_list = list(h5fr.keys())\n",
    "        #add actions in actions list\n",
    "        dset_actions = h5fr[dset_list[0]][:]\n",
    "        for e in dset_actions:\n",
    "            actions.append(e)\n",
    "        #add observations in observations list\n",
    "        dset_observations = h5fr[dset_list[3]][:]\n",
    "        for i in range(len(dset_observations.shape[0])):\n",
    "            observations.append(dset_observations[i])\n",
    "        #add terminals in terminals list\n",
    "        dset_terminals = h5fr[dset_list[5]][:]\n",
    "        for e in dset_terminals:\n",
    "            terminals.append(e)\n",
    "        #add rewards in rewards list\n",
    "        dset_rewards = h5fr[dset_list[4]][:]\n",
    "        for e in dset_rewards:\n",
    "            rewards.append(e)\n",
    "    dataset = MDPDataset(np.array(observations), np.array(actions), np.array(rewards), np.array(terminals))\n",
    "    h5fw.create_dataset(dataset)\n",
    "            \n"
   ]
  },
  {
   "cell_type": "code",
   "execution_count": 71,
   "metadata": {},
   "outputs": [
    {
     "name": "stdout",
     "output_type": "stream",
     "text": [
      "<KeysViewHDF5 []>\n"
     ]
    }
   ],
   "source": [
    "hf_merge = h5.File('datasets_merge.h5')\n",
    "print(hf_merge.keys())"
   ]
  }
 ],
 "metadata": {
  "kernelspec": {
   "display_name": "Python 3.7.13 ('pytorch2')",
   "language": "python",
   "name": "python3"
  },
  "language_info": {
   "codemirror_mode": {
    "name": "ipython",
    "version": 3
   },
   "file_extension": ".py",
   "mimetype": "text/x-python",
   "name": "python",
   "nbconvert_exporter": "python",
   "pygments_lexer": "ipython3",
   "version": "3.7.13"
  },
  "orig_nbformat": 4,
  "vscode": {
   "interpreter": {
    "hash": "48fa7e22a93aeb2ac5a7b0bfc492703a9350434ff26691c89fbf77e9ae1b1f4e"
   }
  }
 },
 "nbformat": 4,
 "nbformat_minor": 2
}
