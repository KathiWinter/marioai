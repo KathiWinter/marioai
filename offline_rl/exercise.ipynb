{
 "cells": [
  {
   "cell_type": "code",
   "execution_count": 7,
   "metadata": {},
   "outputs": [
    {
     "ename": "ConnectionResetError",
     "evalue": "[WinError 10054] Eine vorhandene Verbindung wurde vom Remotehost geschlossen",
     "output_type": "error",
     "traceback": [
      "\u001b[1;31m---------------------------------------------------------------------------\u001b[0m",
      "\u001b[1;31mConnectionResetError\u001b[0m                      Traceback (most recent call last)",
      "\u001b[1;32mc:\\Users\\Kathi\\Desktop\\ARL\\marioai\\offline_rl\\exercise.ipynb Cell 2\u001b[0m in \u001b[0;36m<cell line: 11>\u001b[1;34m()\u001b[0m\n\u001b[0;32m     <a href='vscode-notebook-cell:/c%3A/Users/Kathi/Desktop/ARL/marioai/offline_rl/exercise.ipynb#W1sZmlsZQ%3D%3D?line=20'>21</a>\u001b[0m \u001b[39mwhile\u001b[39;00m \u001b[39mnot\u001b[39;00m done:\n\u001b[0;32m     <a href='vscode-notebook-cell:/c%3A/Users/Kathi/Desktop/ARL/marioai/offline_rl/exercise.ipynb#W1sZmlsZQ%3D%3D?line=21'>22</a>\u001b[0m     action \u001b[39m=\u001b[39m \u001b[39m12\u001b[39m\n\u001b[1;32m---> <a href='vscode-notebook-cell:/c%3A/Users/Kathi/Desktop/ARL/marioai/offline_rl/exercise.ipynb#W1sZmlsZQ%3D%3D?line=22'>23</a>\u001b[0m     next_state, reward, done, info \u001b[39m=\u001b[39m env\u001b[39m.\u001b[39;49mstep(action)\n\u001b[0;32m     <a href='vscode-notebook-cell:/c%3A/Users/Kathi/Desktop/ARL/marioai/offline_rl/exercise.ipynb#W1sZmlsZQ%3D%3D?line=24'>25</a>\u001b[0m     observations\u001b[39m.\u001b[39mappend(next_state)\n\u001b[0;32m     <a href='vscode-notebook-cell:/c%3A/Users/Kathi/Desktop/ARL/marioai/offline_rl/exercise.ipynb#W1sZmlsZQ%3D%3D?line=25'>26</a>\u001b[0m     actions\u001b[39m.\u001b[39mappend(action)\n",
      "File \u001b[1;32mc:\\Users\\Kathi\\Desktop\\ARL\\marioai\\offline_rl\\gym_marioai\\envs\\mario_env.py:170\u001b[0m, in \u001b[0;36mMarioEnv.step\u001b[1;34m(self, action)\u001b[0m\n\u001b[0;32m    168\u001b[0m \u001b[39mif\u001b[39;00m state_msg\u001b[39m.\u001b[39mstate\u001b[39m.\u001b[39mhash_code \u001b[39m==\u001b[39m \u001b[39mself\u001b[39m\u001b[39m.\u001b[39mlast_hash:\n\u001b[0;32m    169\u001b[0m     \u001b[39mself\u001b[39m\u001b[39m.\u001b[39msocket\u001b[39m.\u001b[39msend_action(action)\n\u001b[1;32m--> 170\u001b[0m     state_msg \u001b[39m=\u001b[39m \u001b[39mself\u001b[39;49m\u001b[39m.\u001b[39;49msocket\u001b[39m.\u001b[39;49mreceive()\n\u001b[0;32m    171\u001b[0m \u001b[39melse\u001b[39;00m:\n\u001b[0;32m    172\u001b[0m     \u001b[39mbreak\u001b[39;00m\n",
      "File \u001b[1;32mc:\\Users\\Kathi\\Desktop\\ARL\\marioai\\offline_rl\\gym_marioai\\protobuf_socket.py:79\u001b[0m, in \u001b[0;36mProtobufSocket.receive\u001b[1;34m(self)\u001b[0m\n\u001b[0;32m     77\u001b[0m \u001b[39m\"\"\" receive, parse and return a protobuf message \"\"\"\u001b[39;00m\n\u001b[0;32m     78\u001b[0m \u001b[39m# parse the header\u001b[39;00m\n\u001b[1;32m---> 79\u001b[0m buf \u001b[39m=\u001b[39m \u001b[39mself\u001b[39;49m\u001b[39m.\u001b[39;49msock\u001b[39m.\u001b[39;49mrecv(\u001b[39m10\u001b[39;49m)\n\u001b[0;32m     80\u001b[0m \u001b[39mif\u001b[39;00m buf \u001b[39mis\u001b[39;00m \u001b[39mNone\u001b[39;00m \u001b[39mor\u001b[39;00m buf \u001b[39m==\u001b[39m \u001b[39mb\u001b[39m\u001b[39m'\u001b[39m\u001b[39m'\u001b[39m:\n\u001b[0;32m     81\u001b[0m     \u001b[39mraise\u001b[39;00m \u001b[39mRuntimeError\u001b[39;00m(\u001b[39m\"\u001b[39m\u001b[39msocket connection broken\u001b[39m\u001b[39m\"\u001b[39m)\n",
      "\u001b[1;31mConnectionResetError\u001b[0m: [WinError 10054] Eine vorhandene Verbindung wurde vom Remotehost geschlossen"
     ]
    }
   ],
   "source": [
    "import gym\n",
    "from gym_marioai import levels\n",
    "\n",
    "all_actions = (0,1,2,3,4,5,6,7,8,9,10,11,12)\n",
    "\n",
    "env = gym.make('Marioai-v0', render=True,\n",
    "               level_path=levels.easy_level,\n",
    "               compact_observation=False, #this must stay false for proper saving in dataset\n",
    "               enabled_actions=all_actions,\n",
    "               rf_width=20, rf_height=10)\n",
    "while True:\n",
    "    done = False\n",
    "    total_reward = 0\n",
    "    \n",
    "    #initialize data arrays with initial states for each episode\n",
    "    observations = [env.reset(seed=0)]\n",
    "    actions = [12] #nothing\n",
    "    rewards = [0]\n",
    "    terminals = [done]\n",
    "\n",
    "    while not done:\n",
    "        action = 3\n",
    "        next_state, reward, done, info = env.step(action)\n",
    "        \n",
    "        observations.append(next_state)\n",
    "        actions.append(action)\n",
    "        rewards.append(reward)\n",
    "        terminals.append(done)\n",
    "     \n",
    "        total_reward += reward"
   ]
  }
 ],
 "metadata": {
  "kernelspec": {
   "display_name": "Python",
   "language": "python",
   "name": "python3"
  },
  "language_info": {
   "codemirror_mode": {
    "name": "ipython",
    "version": 3
   },
   "file_extension": ".py",
   "mimetype": "text/x-python",
   "name": "python",
   "nbconvert_exporter": "python",
   "pygments_lexer": "ipython3",
   "version": "3.10.7"
  },
  "orig_nbformat": 4,
  "vscode": {
   "interpreter": {
    "hash": "25a19fbe0a9132dfb9279d48d161753c6352f8f9478c2e74383d340069b907c3"
   }
  }
 },
 "nbformat": 4,
 "nbformat_minor": 2
}
